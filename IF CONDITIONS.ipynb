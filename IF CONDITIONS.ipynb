{
 "cells": [
  {
   "cell_type": "markdown",
   "metadata": {},
   "source": [
    "In this program we learn how to use the condition if and else giving answers to different questions that the program can do.\n",
    "\n",
    "If is for a condition like if this variable is equal to this then the program will answer this\n",
    "Elif is to continue the same question but with other answer\n",
    "And else is for the last condition of this question this usually is to end the if or to answer different questions "
   ]
  },
  {
   "cell_type": "code",
   "execution_count": null,
   "metadata": {},
   "outputs": [],
   "source": [
    "age = int(input(\"How old are you? \"))\n",
    "if age <=18:\n",
    "    print(\"Awwwww u are still a sweetcorn\")\n",
    "if age > 18 and age <=25:\n",
    "    print(\"You look just like a growing tomatoe of\",age ,\"years old\")\n",
    "if age > 25:\n",
    "    print(f\"Dammmmmmmmm {age} dude u are old haha\")\n",
    "    "
   ]
  },
  {
   "cell_type": "code",
   "execution_count": 14,
   "metadata": {},
   "outputs": [
    {
     "name": "stdout",
     "output_type": "stream",
     "text": [
      "What's up bro\n",
      "How are you? Are u fine or not dude, please answer with Im fine if you are good, if not answer with Im not fineIm fine\n",
      "Thats nice brooo\n",
      "Bro what u want for breakfast, egg or pancakes?pancakes\n",
      "Yummy Pancakes Yummy Yummy Pancakes they are more delicious with some bacon, sorry I love pancakes, Somee Pancakes in comiiingg\n",
      "Bro I have a big doubt, How old are you? 10\n",
      " Awwwww u are still a sweetcorn\n",
      "Yo what u want to do in the afternoon would you like to SWIM,STAY at home or u want to do sth else ?SWIM\n",
      "Ookkkk lets go to the pool then\n"
     ]
    }
   ],
   "source": [
    "import time\n",
    "print(\"What's up bro\")\n",
    "time.sleep(1)\n",
    "day = input(\"How are you? Are u fine or not dude, please answer with Im fine if you are good, if not answer with Im not fine\")\n",
    "if day == \"Im fine\":\n",
    "        print(\"Thats nice brooo\")\n",
    "elif day == \"Im not fine\":\n",
    "        print(\"Damm what happen bro? I hope everything its ok\")\n",
    "else: \n",
    "        print(\"Broo I couldnt understand you sorry\")\n",
    "breakfast = input(\"Bro what u want for breakfast, egg or pancakes?\")\n",
    "if breakfast == \"egg\":\n",
    "    print(\"Someees eggs in comingg\")\n",
    "elif breakfast == \"pancakes\":\n",
    "    print(\"Yummy Pancakes Yummy Yummy Pancakes they are more delicious with some bacon, sorry I love pancakes, Somee Pancakes in comiiingg\")\n",
    "else:\n",
    "        print(\" Broo I couldnt understand you sorry\")\n",
    "age = int(input(\"Bro I have a big doubt, How old are you? \"))\n",
    "if age <=18:\n",
    "    print(\" Awwwww u are still a sweetcorn\")\n",
    "elif age > 18 and age <=25:\n",
    "    print(\"Really?? You just look just like a growing tomatoe of\",age ,\"years old\")\n",
    "elif age > 25:\n",
    "    print(f\"Dammmmmmmmm {age} dude u are old haha\")\n",
    "else:\n",
    "    print(\"Dude I couldnt understand u\")/\n",
    "what = input(\"Yo what u want to do in the afternoon would you like to SWIM,STAY at home or u want to do sth else ?\")\n",
    "if what == \"SWIM\":\n",
    "    print(\"Ookkkk lets go to the pool then\")\n",
    "elif what == \"STAY\":\n",
    "    print(\" Okk lets sstay at home and play some video games\")\n",
    "else:\n",
    "    print(f\"Lets do {what}\")\n",
    "print(\"Yeiii\")"
   ]
  }
 ],
 "metadata": {
  "kernelspec": {
   "display_name": "Python 3",
   "language": "python",
   "name": "python3"
  },
  "language_info": {
   "codemirror_mode": {
    "name": "ipython",
    "version": 3
   },
   "file_extension": ".py",
   "mimetype": "text/x-python",
   "name": "python",
   "nbconvert_exporter": "python",
   "pygments_lexer": "ipython3",
   "version": "3.7.4"
  }
 },
 "nbformat": 4,
 "nbformat_minor": 2
}
