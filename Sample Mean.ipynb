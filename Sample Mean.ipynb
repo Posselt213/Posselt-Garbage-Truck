{
 "cells": [
  {
   "cell_type": "code",
   "execution_count": null,
   "metadata": {},
   "outputs": [],
   "source": [
    "##What is this program about and steps :b\n",
    "In this program, we \"ask\" to 3 students their ages so we can make a sample mean example using variable, int, input, and sample mean in unarranged values.\n",
    " First, we ask the students age and we save it in 3 different variables.\n",
    "Then we add and divide those 3 ages in the next form (age1+ 2 + 3) all this divided by the number of students, in this case, is 3, and all this we save it in a variable named Sample.\n",
    "In the end, we print what we want to show that was the result of the sample mean so we write \"the sample mean is {Sample}\"\n",
    "The end"
   ]
  },
  {
   "cell_type": "code",
   "execution_count": null,
   "metadata": {},
   "outputs": [],
   "source": [
    "print (\"What is the student 1 age\", end =' ')\n",
    "age1 = int(input())\n",
    "print (\"What is the student 2 age\", end =' ')\n",
    "age2 = int(input())\n",
    "print (\"What is the student 3 age\", end =' ')\n",
    "age3 = int(input())\n",
    "\n",
    "Sample = (age1 + age2 + age3) /3\n",
    "\n",
    "print(f\"The sample mean is ,{Sample}\" )\n"
   ]
  },
  {
   "cell_type": "code",
   "execution_count": null,
   "metadata": {},
   "outputs": [],
   "source": [
    "#Example\n",
    "\n",
    "print(f\"Whats your name?\", end =' ')\n",
    "name = input()\n",
    "age = int(input(\"How old are you? \" ))\n",
    "#the part above can be written also as : age int(input())\n",
    "print(f\"Really?? U re {age} year old? Dammmm\")\n"
   ]
  },
  {
   "cell_type": "markdown",
   "metadata": {},
   "source": []
  }
 ],
 "metadata": {
  "kernelspec": {
   "display_name": "Python 3",
   "language": "python",
   "name": "python3"
  },
  "language_info": {
   "codemirror_mode": {
    "name": "ipython",
    "version": 3
   },
   "file_extension": ".py",
   "mimetype": "text/x-python",
   "name": "python",
   "nbconvert_exporter": "python",
   "pygments_lexer": "ipython3",
   "version": "3.7.4"
  }
 },
 "nbformat": 4,
 "nbformat_minor": 2
}
