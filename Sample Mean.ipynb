{
 "cells": [
  {
   "cell_type": "code",
   "execution_count": 3,
   "metadata": {},
   "outputs": [
    {
     "name": "stdout",
     "output_type": "stream",
     "text": [
      "What is the student 1 age 12\n",
      "What is the student 2 age\n",
      "12\n",
      "What is the student 3 age 12\n",
      "The sample mean is ,12.0\n"
     ]
    }
   ],
   "source": [
    "print (\"What is the student 1 age\", end =' ')\n",
    "age1 = int(input())\n",
    "print (\"What is the student 2 age\", end =' ')\n",
    "age2 = int(input())\n",
    "print (\"What is the student 3 age\", end =' ')\n",
    "age3 = int(input())\n",
    "\n",
    "Sample = (age1 + age2 + age3) /3\n",
    "\n",
    "print(f\"The sample mean is ,{Sample}\" )\n"
   ]
  },
  {
   "cell_type": "code",
   "execution_count": 7,
   "metadata": {},
   "outputs": [
    {
     "name": "stdout",
     "output_type": "stream",
     "text": [
      "Whats your name? e\n",
      "How old are you?  12\n",
      "Really?? U re 12 year old? Dammmm\n"
     ]
    }
   ],
   "source": [
    "#Example\n",
    "\n",
    "print(f\"Whats your name?\", end =' ')\n",
    "name = input()\n",
    "age = int(input(\"How old are you? \" ))\n",
    "#the part above can be written also as : age int(input())\n",
    "print(f\"Really?? U re {age} year old? Dammmm\")\n"
   ]
  },
  {
   "cell_type": "markdown",
   "metadata": {},
   "source": []
  }
 ],
 "metadata": {
  "kernelspec": {
   "display_name": "Python 3",
   "language": "python",
   "name": "python3"
  },
  "language_info": {
   "codemirror_mode": {
    "name": "ipython",
    "version": 3
   },
   "file_extension": ".py",
   "mimetype": "text/x-python",
   "name": "python",
   "nbconvert_exporter": "python",
   "pygments_lexer": "ipython3",
   "version": "3.7.4"
  }
 },
 "nbformat": 4,
 "nbformat_minor": 2
}
