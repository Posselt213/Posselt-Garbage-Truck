{
 "cells": [
  {
   "cell_type": "markdown",
   "metadata": {},
   "source": [
    "\n",
    "# Loop with names"
   ]
  },
  {
   "cell_type": "markdown",
   "metadata": {},
   "source": [
    " In this practice we learn how to manage characters list with the command for \"x\" in range(0,variable) so we can print as many characters we want"
   ]
  },
  {
   "cell_type": "code",
   "execution_count": null,
   "metadata": {
    "scrolled": true
   },
   "outputs": [
    {
     "name": "stdout",
     "output_type": "stream",
     "text": [
      "How many students do you want to introduce?? 5\n",
      "Introduce names: Juan\n",
      "Introduce names: paco\n",
      "Introduce names: Nacho\n",
      "Introduce names: Pepe\n",
      "Introduce names: Toño\n",
      "This are your students: \n",
      "Juan\n",
      "paco\n",
      "Nacho\n",
      "Pepe\n",
      "Toño\n",
      "Which student do you want to select? \n"
     ]
    }
   ],
   "source": [
    "values = int(input(\"How many students do you want to introduce?? \"))\n",
    "names =[]\n",
    "total = 0\n",
    "for i in range(0,values):\n",
    "    x = (input(\"Introduce names: \"))\n",
    "    names.append(x)\n",
    "    total = x\n",
    "print(\"This are your students: \")\n",
    "\n",
    "for name in names:\n",
    "    print(name)\n",
    "\n",
    "print(\"Which student do you want to select? \")\n",
    "print(names[int(input())])\n"
   ]
  },
  {
   "cell_type": "code",
   "execution_count": null,
   "metadata": {},
   "outputs": [],
   "source": [
    "ju"
   ]
  }
 ],
 "metadata": {
  "kernelspec": {
   "display_name": "Python 3",
   "language": "python",
   "name": "python3"
  },
  "language_info": {
   "codemirror_mode": {
    "name": "ipython",
    "version": 3
   },
   "file_extension": ".py",
   "mimetype": "text/x-python",
   "name": "python",
   "nbconvert_exporter": "python",
   "pygments_lexer": "ipython3",
   "version": "3.7.4"
  }
 },
 "nbformat": 4,
 "nbformat_minor": 2
}
